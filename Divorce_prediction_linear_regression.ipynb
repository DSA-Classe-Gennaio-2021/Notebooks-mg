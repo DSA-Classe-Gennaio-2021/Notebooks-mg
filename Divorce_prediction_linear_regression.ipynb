{
 "cells": [
  {
   "cell_type": "code",
   "execution_count": 3,
   "metadata": {},
   "outputs": [],
   "source": [
    "import numpy as np\n",
    "import pandas as pd\n",
    "import matplotlib.pyplot as plt\n",
    "import seaborn \n",
    "from sklearn.linear_model import LinearRegression"
   ]
  },
  {
   "cell_type": "code",
   "execution_count": 12,
   "metadata": {},
   "outputs": [
    {
     "data": {
      "text/html": [
       "<div>\n",
       "<style scoped>\n",
       "    .dataframe tbody tr th:only-of-type {\n",
       "        vertical-align: middle;\n",
       "    }\n",
       "\n",
       "    .dataframe tbody tr th {\n",
       "        vertical-align: top;\n",
       "    }\n",
       "\n",
       "    .dataframe thead th {\n",
       "        text-align: right;\n",
       "    }\n",
       "</style>\n",
       "<table border=\"1\" class=\"dataframe\">\n",
       "  <thead>\n",
       "    <tr style=\"text-align: right;\">\n",
       "      <th></th>\n",
       "      <th>Q1</th>\n",
       "      <th>Q2</th>\n",
       "      <th>Q3</th>\n",
       "      <th>Q4</th>\n",
       "      <th>Q5</th>\n",
       "      <th>Q6</th>\n",
       "      <th>Q7</th>\n",
       "      <th>Q8</th>\n",
       "      <th>Q9</th>\n",
       "      <th>Q10</th>\n",
       "      <th>...</th>\n",
       "      <th>Q46</th>\n",
       "      <th>Q47</th>\n",
       "      <th>Q48</th>\n",
       "      <th>Q49</th>\n",
       "      <th>Q50</th>\n",
       "      <th>Q51</th>\n",
       "      <th>Q52</th>\n",
       "      <th>Q53</th>\n",
       "      <th>Q54</th>\n",
       "      <th>Divorce</th>\n",
       "    </tr>\n",
       "  </thead>\n",
       "  <tbody>\n",
       "    <tr>\n",
       "      <th>0</th>\n",
       "      <td>2</td>\n",
       "      <td>2</td>\n",
       "      <td>4</td>\n",
       "      <td>1</td>\n",
       "      <td>0</td>\n",
       "      <td>0</td>\n",
       "      <td>0</td>\n",
       "      <td>0</td>\n",
       "      <td>0</td>\n",
       "      <td>0</td>\n",
       "      <td>...</td>\n",
       "      <td>2</td>\n",
       "      <td>1</td>\n",
       "      <td>3</td>\n",
       "      <td>3</td>\n",
       "      <td>3</td>\n",
       "      <td>2</td>\n",
       "      <td>3</td>\n",
       "      <td>2</td>\n",
       "      <td>1</td>\n",
       "      <td>1</td>\n",
       "    </tr>\n",
       "    <tr>\n",
       "      <th>1</th>\n",
       "      <td>4</td>\n",
       "      <td>4</td>\n",
       "      <td>4</td>\n",
       "      <td>4</td>\n",
       "      <td>4</td>\n",
       "      <td>0</td>\n",
       "      <td>0</td>\n",
       "      <td>4</td>\n",
       "      <td>4</td>\n",
       "      <td>4</td>\n",
       "      <td>...</td>\n",
       "      <td>2</td>\n",
       "      <td>2</td>\n",
       "      <td>3</td>\n",
       "      <td>4</td>\n",
       "      <td>4</td>\n",
       "      <td>4</td>\n",
       "      <td>4</td>\n",
       "      <td>2</td>\n",
       "      <td>2</td>\n",
       "      <td>1</td>\n",
       "    </tr>\n",
       "    <tr>\n",
       "      <th>2</th>\n",
       "      <td>2</td>\n",
       "      <td>2</td>\n",
       "      <td>2</td>\n",
       "      <td>2</td>\n",
       "      <td>1</td>\n",
       "      <td>3</td>\n",
       "      <td>2</td>\n",
       "      <td>1</td>\n",
       "      <td>1</td>\n",
       "      <td>2</td>\n",
       "      <td>...</td>\n",
       "      <td>3</td>\n",
       "      <td>2</td>\n",
       "      <td>3</td>\n",
       "      <td>1</td>\n",
       "      <td>1</td>\n",
       "      <td>1</td>\n",
       "      <td>2</td>\n",
       "      <td>2</td>\n",
       "      <td>2</td>\n",
       "      <td>1</td>\n",
       "    </tr>\n",
       "    <tr>\n",
       "      <th>3</th>\n",
       "      <td>3</td>\n",
       "      <td>2</td>\n",
       "      <td>3</td>\n",
       "      <td>2</td>\n",
       "      <td>3</td>\n",
       "      <td>3</td>\n",
       "      <td>3</td>\n",
       "      <td>3</td>\n",
       "      <td>3</td>\n",
       "      <td>3</td>\n",
       "      <td>...</td>\n",
       "      <td>2</td>\n",
       "      <td>2</td>\n",
       "      <td>3</td>\n",
       "      <td>3</td>\n",
       "      <td>3</td>\n",
       "      <td>3</td>\n",
       "      <td>2</td>\n",
       "      <td>2</td>\n",
       "      <td>2</td>\n",
       "      <td>1</td>\n",
       "    </tr>\n",
       "    <tr>\n",
       "      <th>4</th>\n",
       "      <td>2</td>\n",
       "      <td>2</td>\n",
       "      <td>1</td>\n",
       "      <td>1</td>\n",
       "      <td>1</td>\n",
       "      <td>1</td>\n",
       "      <td>0</td>\n",
       "      <td>0</td>\n",
       "      <td>0</td>\n",
       "      <td>0</td>\n",
       "      <td>...</td>\n",
       "      <td>2</td>\n",
       "      <td>1</td>\n",
       "      <td>2</td>\n",
       "      <td>3</td>\n",
       "      <td>2</td>\n",
       "      <td>2</td>\n",
       "      <td>2</td>\n",
       "      <td>1</td>\n",
       "      <td>0</td>\n",
       "      <td>1</td>\n",
       "    </tr>\n",
       "  </tbody>\n",
       "</table>\n",
       "<p>5 rows × 55 columns</p>\n",
       "</div>"
      ],
      "text/plain": [
       "   Q1  Q2  Q3  Q4  Q5  Q6  Q7  Q8  Q9  Q10  ...  Q46  Q47  Q48  Q49  Q50  Q51  \\\n",
       "0   2   2   4   1   0   0   0   0   0    0  ...    2    1    3    3    3    2   \n",
       "1   4   4   4   4   4   0   0   4   4    4  ...    2    2    3    4    4    4   \n",
       "2   2   2   2   2   1   3   2   1   1    2  ...    3    2    3    1    1    1   \n",
       "3   3   2   3   2   3   3   3   3   3    3  ...    2    2    3    3    3    3   \n",
       "4   2   2   1   1   1   1   0   0   0    0  ...    2    1    2    3    2    2   \n",
       "\n",
       "   Q52  Q53  Q54  Divorce  \n",
       "0    3    2    1        1  \n",
       "1    4    2    2        1  \n",
       "2    2    2    2        1  \n",
       "3    2    2    2        1  \n",
       "4    2    1    0        1  \n",
       "\n",
       "[5 rows x 55 columns]"
      ]
     },
     "execution_count": 12,
     "metadata": {},
     "output_type": "execute_result"
    }
   ],
   "source": [
    "#https://www.kaggle.com/andrewmvd/divorce-prediction\n",
    "df = pd.read_csv(\"divorce_data.csv\", delimiter = \";\")\n",
    "df.head()"
   ]
  },
  {
   "cell_type": "markdown",
   "metadata": {},
   "source": [
    "All responses were collected on a 5 point scale (0=Never, 1=Seldom, 2=Averagely, 3=Frequently, 4=Always).\n",
    "\n",
    "Q1 If one of us apologizes when our discussion deteriorates, the discussion ends.\n",
    "\n",
    "Q2 I know we can ignore our differences, even if things get hard sometimes.\n",
    "\n",
    "Q3 When we need it, we can take our discussions with my spouse from the beginning and correct it.\n",
    "\n",
    "Q4 When I discuss with my spouse, to contact him will eventually work.\n",
    "\n",
    "Q5 The time I spent with my wife is special for us.\n",
    "\n",
    "Q6 We don't have time at home as partners.\n",
    "\n",
    "Q7 We are like two strangers who share the same environment at home rather than family.\n",
    "\n",
    "Q8 I enjoy our holidays with my wife.\n",
    "\n",
    "Q9 I enjoy traveling with my wife.\n",
    "\n",
    "Q10 Most of our goals are common to my spouse.\n",
    "\n",
    "Q11 I think that one day in the future, when I look back, I see that my spouse and I have been in harmony with each other.\n",
    "\n",
    "Q12 My spouse and I have similar values in terms of personal freedom.\n",
    "\n",
    "Q13 My spouse and I have similar sense of entertainment.\n",
    "\n",
    "Q14 Most of our goals for people (children, friends, etc.) are the same.\n",
    "\n",
    "Q15 Our dreams with my spouse are similar and harmonious.\n",
    "\n",
    "Q16 We are compatible with my spouse about what love should be.\n",
    "\n",
    "Q17 We share the same views about being happy in our life with my spouse\n",
    "\n",
    "Q18 My spouse and I have similar ideas about how marriage should be\n",
    "\n",
    "Q19 My spouse and I have similar ideas about how roles should be in marriage\n",
    "\n",
    "Q20 My spouse and I have similar values in trust.\n",
    "\n",
    "Q21 I know exactly what my wife likes.\n",
    "\n",
    "Q22 I know how my spouse wants to be taken care of when she/he sick.\n",
    "\n",
    "Q23 I know my spouse's favorite food.\n",
    "\n",
    "Q24 I can tell you what kind of stress my spouse is facing in her/his life.\n",
    "\n",
    "Q25 I have knowledge of my spouse's inner world.\n",
    "\n",
    "Q26 I know my spouse's basic anxieties.\n",
    "\n",
    "Q27 I know what my spouse's current sources of stress are.\n",
    "\n",
    "Q28 I know my spouse's hopes and wishes.\n",
    "\n",
    "Q29 I know my spouse very well.\n",
    "\n",
    "Q30 I know my spouse's friends and their social relationships.\n",
    "\n",
    "Q31 I feel aggressive when I argue with my spouse.\n",
    "\n",
    "Q32 When discussing with my spouse, I usually use expressions such as ‘you always’ or ‘you never’.\n",
    "\n",
    "Q33 I can use negative statements about my spouse's personality during our discussions.\n",
    "\n",
    "Q34 I can use offensive expressions during our discussions.\n",
    "\n",
    "Q35 I can insult my spouse during our discussions.\n",
    "\n",
    "Q36 I can be humiliating when we discussions.\n",
    "\n",
    "Q37 My discussion with my spouse is not calm.\n",
    "\n",
    "Q38 I hate my spouse's way of open a subject.\n",
    "\n",
    "Q39 Our discussions often occur suddenly.\n",
    "\n",
    "Q40 We're just starting a discussion before I know what's going on.\n",
    "\n",
    "Q41 When I talk to my spouse about something, my calm suddenly breaks.\n",
    "\n",
    "Q42 When I argue with my spouse, ı only go out and I don't say a word.\n",
    "\n",
    "Q43 I mostly stay silent to calm the environment a little bit.\n",
    "\n",
    "Q44 Sometimes I think it's good for me to leave home for a while.\n",
    "\n",
    "Q45 I'd rather stay silent than discuss with my spouse.\n",
    "\n",
    "Q46 Even if I'm right in the discussion, I stay silent to hurt my spouse.\n",
    "\n",
    "Q47 When I discuss with my spouse, I stay silent because I am afraid of not being able to control my anger.\n",
    "\n",
    "Q48 I feel right in our discussions.\n",
    "\n",
    "Q49 I have nothing to do with what I've been accused of.\n",
    "\n",
    "Q50 I'm not actually the one who's guilty about what I'm accused of.\n",
    "\n",
    "Q51 I'm not the one who's wrong about problems at home.\n",
    "\n",
    "Q52 I wouldn't hesitate to tell my spouse about her/his inadequacy.\n",
    "\n",
    "Q53 When I discuss, I remind my spouse of her/his inadequacy.\n",
    "\n",
    "Q54 I'm not afraid to tell my spouse about her/his incompetence."
   ]
  },
  {
   "cell_type": "code",
   "execution_count": 23,
   "metadata": {},
   "outputs": [],
   "source": [
    "data = df[[\"Q1\", \"Q2\", \"Q3\", \"Q4\", \"Q5\", \"Q6\", \"Q7\", \"Q8\", \"Q9\", \"Q10\", \"Q11\", \"Q12\", \"Q13\", \"Q14\", \"Q15\", \"Q16\", \"Q17\",\n",
    "           \"Q18\", \"Q19\", \"Q20\", \"Q21\", \"Q22\", \"Q23\", \"Q24\", \"Q25\", \"Q26\", \"Q27\", \"Q28\", \"Q29\", \"Q30\", \"Q31\", \"Q32\", \"Q33\",\n",
    "           \"Q34\", \"Q35\", \"Q36\", \"Q37\",\"Q38\", \"Q39\", \"Q40\", \"Q41\", \"Q42\", \"Q43\", \"Q44\", \"Q45\", \"Q46\", \"Q47\", \"Q48\", \"Q49\", \"Q50\", \"Q51\", \"Q52\", \"Q53\", \"Q54\"]]"
   ]
  },
  {
   "cell_type": "code",
   "execution_count": 24,
   "metadata": {},
   "outputs": [],
   "source": [
    "target = df[\"Divorce\"]"
   ]
  },
  {
   "cell_type": "code",
   "execution_count": 25,
   "metadata": {},
   "outputs": [],
   "source": [
    "model = LinearRegression()"
   ]
  },
  {
   "cell_type": "code",
   "execution_count": 28,
   "metadata": {},
   "outputs": [
    {
     "data": {
      "text/plain": [
       "LinearRegression()"
      ]
     },
     "execution_count": 28,
     "metadata": {},
     "output_type": "execute_result"
    }
   ],
   "source": [
    "model.fit(data, target)"
   ]
  },
  {
   "cell_type": "code",
   "execution_count": 50,
   "metadata": {},
   "outputs": [
    {
     "data": {
      "text/plain": [
       "array([0.65620562, 0.87770113])"
      ]
     },
     "execution_count": 50,
     "metadata": {},
     "output_type": "execute_result"
    }
   ],
   "source": [
    "risposte_coppia_inventata = [[1, 2, 3, 4, 1,2,3,4,1,2,3,4,1,2,3,4,1,2,3,4,1,2,3,4,1,2,3,4,1,2,3,4,1,2,3,4,1,2,3,4,1,2,3,4,1,2,3,4,1,2,3,4,1,2],\n",
    "    [2, 2, 3, 5, 1,2,3,4,1,2,3,4,1,5,3,4,1,2,3,1,1,2,3,4,1,2,3,4,1,2,3,4,1,2,3,4,1,2,3,4,1,2,3,4,1,2,3,4,1,2,3,4,1,2]]\n",
    "model.predict(risposte_coppia_inventata)"
   ]
  },
  {
   "cell_type": "code",
   "execution_count": 41,
   "metadata": {},
   "outputs": [
    {
     "data": {
      "text/plain": [
       "(-0.08844202624611663, 0.012757799016978945)"
      ]
     },
     "execution_count": 41,
     "metadata": {},
     "output_type": "execute_result"
    }
   ],
   "source": [
    "theta0, theta1 = model.intercept_, model.coef_[0]\n",
    "theta0, theta1"
   ]
  },
  {
   "cell_type": "code",
   "execution_count": 44,
   "metadata": {},
   "outputs": [
    {
     "data": {
      "text/plain": [
       "0.007605614800133079"
      ]
     },
     "execution_count": 44,
     "metadata": {},
     "output_type": "execute_result"
    }
   ],
   "source": [
    "#errore al quadrato medio sui dati di training\n",
    "np.mean((model.predict(data) - target) ** 2)"
   ]
  },
  {
   "cell_type": "code",
   "execution_count": 48,
   "metadata": {},
   "outputs": [
    {
     "data": {
      "text/plain": [
       "0.9695733294955916"
      ]
     },
     "execution_count": 48,
     "metadata": {},
     "output_type": "execute_result"
    }
   ],
   "source": [
    "#r**2\n",
    "model.score(data, target)"
   ]
  }
 ],
 "metadata": {
  "kernelspec": {
   "display_name": "Python 3",
   "language": "python",
   "name": "python3"
  },
  "language_info": {
   "codemirror_mode": {
    "name": "ipython",
    "version": 3
   },
   "file_extension": ".py",
   "mimetype": "text/x-python",
   "name": "python",
   "nbconvert_exporter": "python",
   "pygments_lexer": "ipython3",
   "version": "3.8.5"
  }
 },
 "nbformat": 4,
 "nbformat_minor": 4
}
